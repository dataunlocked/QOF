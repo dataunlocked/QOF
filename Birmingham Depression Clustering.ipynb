{
 "cells": [
  {
   "cell_type": "markdown",
   "metadata": {},
   "source": [
    "# Introduction\n",
    "\n",
    "This Jupyter Notebook looks at the rates of diagnosis of depression in Birmingham. \n",
    "\n",
    "The data sources it uses are:\n",
    "\n",
    "- [A breakdown of the number of patients in each gp practice by the lsoa they are registered as living in](\n",
    "https://digital.nhs.uk/data-and-information/publications/statistical/patients-registered-at-a-gp-practice/january-2018)\n",
    "\n",
    "- [Indices of Multiple Deprivation - 2015. Data that gives the Index of Multiple Deprivation rank and decile for Lower Super Output Areas](https://www.gov.uk/government/statistics/english-indices-of-deprivation-2015)\n",
    "\n",
    "- [Quality Outcome Framework data that gives the prevalence rates for the diagnosis of 21 medical conditions by gp practice](https://digital.nhs.uk/data-and-information/publications/statistical/quality-and-outcomes-framework-achievement-prevalence-and-exceptions-data/quality-and-outcomes-framework-qof-2016-17)\n",
    "\n",
    "- [Ethnicity breakdown at lower super output area level based on data from the 2011 census on the NOMIS website](https://www.nomisweb.co.uk)*\n",
    "\n",
    "We first built a data model that calculated estimated rates for the diagnosis of conditions at lsoa level.\n",
    "\n",
    "After generating these estimates a [Tableau visualisation was created](https://public.tableau.com/profile/mikelcu#!/vizhome/BirminghamQOFbyLSOA/Map) which showed that more deprived lsoas in central Birmingham showed a lower diagnosis rate for depression than both more affluent areas and the more deprived areas that we recognised as having a whiter population. Because of this we decided to investigate further what the relative influence of deprivation and ethnicity might be in the diagnosis of depression in Birmingham."
   ]
  },
  {
   "cell_type": "markdown",
   "metadata": {},
   "source": [
    "## Notes on factors that may affects the accuracy of this analysis\n",
    "\n",
    "The NOMIS site includes the following explanatory text\n",
    ">“In order to protect against disclosure of personal information, records have been swapped between different geographic areas. Some counts will be affected, particularly small counts at the lowest geographies”\n",
    "\n",
    "this may affect our analysis in ways that we are unable to quantify at the moment."
   ]
  },
  {
   "cell_type": "markdown",
   "metadata": {},
   "source": [
    "This notebook is a continuance from the [initial data analysis](http://localhost:8888/notebooks/Google%20Drive/qof/Birmingham_Depression_By_Ethnicity_Aug_2018.ipynb#), which won't be repeated here.   "
   ]
  },
  {
   "cell_type": "markdown",
   "metadata": {},
   "source": [
    "# Clustering\n",
    "\n",
    "First, we import the libraries that we are going to be using."
   ]
  },
  {
   "cell_type": "code",
   "execution_count": 1,
   "metadata": {},
   "outputs": [],
   "source": [
    "# data analysis and wrangling\n",
    "import pandas as pd\n",
    "import numpy as np\n",
    "\n",
    "#visualisation\n",
    "import matplotlib\n",
    "import matplotlib.pyplot as plt\n",
    "import seaborn as sns\n",
    "%matplotlib inline\n",
    "matplotlib.style.use('ggplot')\n",
    "\n",
    "#sklearn\n",
    "from sklearn import preprocessing\n",
    "from sklearn.feature_selection import SelectKBest\n",
    "from sklearn.feature_selection import f_regression\n",
    "from sklearn.cluster import KMeans\n",
    "from scipy.cluster.hierarchy import dendrogram, linkage\n",
    "from scipy.cluster.hierarchy import fcluster"
   ]
  },
  {
   "cell_type": "markdown",
   "metadata": {},
   "source": [
    "The following code suppresses the use of scientific float notation in Jupyter notebooks. It makes the analysis easier to follow. "
   ]
  },
  {
   "cell_type": "code",
   "execution_count": 2,
   "metadata": {},
   "outputs": [],
   "source": [
    "%matplotlib inline\n",
    "np.set_printoptions(precision=5, suppress=True) "
   ]
  },
  {
   "cell_type": "markdown",
   "metadata": {},
   "source": [
    "Next, we import the data file into a Pandas Dataframe, df and then take a copy of this as df_orig as we will be writing the results of our clustering to this file later."
   ]
  },
  {
   "cell_type": "code",
   "execution_count": 3,
   "metadata": {},
   "outputs": [],
   "source": [
    "df = pd.read_csv('./lsoa_prevalence_bham_dep_baselined.csv', sep='\\s*,\\s*', header=0, encoding='ascii', engine='python')\n",
    "df_orig = df.copy(deep=True)"
   ]
  },
  {
   "cell_type": "markdown",
   "metadata": {},
   "source": [
    "Take a look at the first five rows in the DataFrame."
   ]
  },
  {
   "cell_type": "code",
   "execution_count": 4,
   "metadata": {},
   "outputs": [
    {
     "data": {
      "text/html": [
       "<div>\n",
       "<style scoped>\n",
       "    .dataframe tbody tr th:only-of-type {\n",
       "        vertical-align: middle;\n",
       "    }\n",
       "\n",
       "    .dataframe tbody tr th {\n",
       "        vertical-align: top;\n",
       "    }\n",
       "\n",
       "    .dataframe thead th {\n",
       "        text-align: right;\n",
       "    }\n",
       "</style>\n",
       "<table border=\"1\" class=\"dataframe\">\n",
       "  <thead>\n",
       "    <tr style=\"text-align: right;\">\n",
       "      <th></th>\n",
       "      <th>lsoa</th>\n",
       "      <th>imd_rank</th>\n",
       "      <th>imd_decile</th>\n",
       "      <th>indicator_group</th>\n",
       "      <th>estimated_pats_with_condition</th>\n",
       "      <th>All_ethnicities</th>\n",
       "      <th>White</th>\n",
       "      <th>Gypsy_traveller</th>\n",
       "      <th>Mixed_Ethnicity</th>\n",
       "      <th>Indian</th>\n",
       "      <th>Pakistani</th>\n",
       "      <th>Bangladeshi</th>\n",
       "      <th>Chinese</th>\n",
       "      <th>Other_Asian</th>\n",
       "      <th>Black_African_Caribbean</th>\n",
       "      <th>Other</th>\n",
       "      <th>group_desc</th>\n",
       "      <th>list_type</th>\n",
       "      <th>patients</th>\n",
       "      <th>ward_name</th>\n",
       "    </tr>\n",
       "  </thead>\n",
       "  <tbody>\n",
       "    <tr>\n",
       "      <th>0</th>\n",
       "      <td>E01009417</td>\n",
       "      <td>22255</td>\n",
       "      <td>7</td>\n",
       "      <td>DEP</td>\n",
       "      <td>81.437118</td>\n",
       "      <td>1493</td>\n",
       "      <td>1338</td>\n",
       "      <td>0</td>\n",
       "      <td>26</td>\n",
       "      <td>68</td>\n",
       "      <td>4</td>\n",
       "      <td>0</td>\n",
       "      <td>1</td>\n",
       "      <td>14</td>\n",
       "      <td>27</td>\n",
       "      <td>15</td>\n",
       "      <td>Depression</td>\n",
       "      <td>18OV</td>\n",
       "      <td>1647</td>\n",
       "      <td>Sutton Four Oaks</td>\n",
       "    </tr>\n",
       "    <tr>\n",
       "      <th>1</th>\n",
       "      <td>E01009418</td>\n",
       "      <td>14654</td>\n",
       "      <td>5</td>\n",
       "      <td>DEP</td>\n",
       "      <td>82.308745</td>\n",
       "      <td>1471</td>\n",
       "      <td>1308</td>\n",
       "      <td>1</td>\n",
       "      <td>42</td>\n",
       "      <td>49</td>\n",
       "      <td>22</td>\n",
       "      <td>0</td>\n",
       "      <td>2</td>\n",
       "      <td>18</td>\n",
       "      <td>28</td>\n",
       "      <td>1</td>\n",
       "      <td>Depression</td>\n",
       "      <td>18OV</td>\n",
       "      <td>1635</td>\n",
       "      <td>Sutton Four Oaks</td>\n",
       "    </tr>\n",
       "    <tr>\n",
       "      <th>2</th>\n",
       "      <td>E01009419</td>\n",
       "      <td>18033</td>\n",
       "      <td>6</td>\n",
       "      <td>DEP</td>\n",
       "      <td>79.739249</td>\n",
       "      <td>1322</td>\n",
       "      <td>1192</td>\n",
       "      <td>1</td>\n",
       "      <td>17</td>\n",
       "      <td>70</td>\n",
       "      <td>9</td>\n",
       "      <td>6</td>\n",
       "      <td>1</td>\n",
       "      <td>1</td>\n",
       "      <td>13</td>\n",
       "      <td>12</td>\n",
       "      <td>Depression</td>\n",
       "      <td>18OV</td>\n",
       "      <td>1523</td>\n",
       "      <td>Sutton Four Oaks</td>\n",
       "    </tr>\n",
       "    <tr>\n",
       "      <th>3</th>\n",
       "      <td>E01009433</td>\n",
       "      <td>29446</td>\n",
       "      <td>9</td>\n",
       "      <td>DEP</td>\n",
       "      <td>90.585044</td>\n",
       "      <td>1759</td>\n",
       "      <td>1554</td>\n",
       "      <td>0</td>\n",
       "      <td>29</td>\n",
       "      <td>108</td>\n",
       "      <td>6</td>\n",
       "      <td>5</td>\n",
       "      <td>4</td>\n",
       "      <td>3</td>\n",
       "      <td>45</td>\n",
       "      <td>5</td>\n",
       "      <td>Depression</td>\n",
       "      <td>18OV</td>\n",
       "      <td>1863</td>\n",
       "      <td>Sutton Four Oaks</td>\n",
       "    </tr>\n",
       "    <tr>\n",
       "      <th>4</th>\n",
       "      <td>E01009415</td>\n",
       "      <td>30694</td>\n",
       "      <td>10</td>\n",
       "      <td>DEP</td>\n",
       "      <td>89.069990</td>\n",
       "      <td>1638</td>\n",
       "      <td>1485</td>\n",
       "      <td>1</td>\n",
       "      <td>33</td>\n",
       "      <td>63</td>\n",
       "      <td>25</td>\n",
       "      <td>2</td>\n",
       "      <td>7</td>\n",
       "      <td>13</td>\n",
       "      <td>7</td>\n",
       "      <td>2</td>\n",
       "      <td>Depression</td>\n",
       "      <td>18OV</td>\n",
       "      <td>1782</td>\n",
       "      <td>Sutton Four Oaks</td>\n",
       "    </tr>\n",
       "  </tbody>\n",
       "</table>\n",
       "</div>"
      ],
      "text/plain": [
       "        lsoa  imd_rank  imd_decile indicator_group  \\\n",
       "0  E01009417     22255           7             DEP   \n",
       "1  E01009418     14654           5             DEP   \n",
       "2  E01009419     18033           6             DEP   \n",
       "3  E01009433     29446           9             DEP   \n",
       "4  E01009415     30694          10             DEP   \n",
       "\n",
       "   estimated_pats_with_condition  All_ethnicities  White  Gypsy_traveller  \\\n",
       "0                      81.437118             1493   1338                0   \n",
       "1                      82.308745             1471   1308                1   \n",
       "2                      79.739249             1322   1192                1   \n",
       "3                      90.585044             1759   1554                0   \n",
       "4                      89.069990             1638   1485                1   \n",
       "\n",
       "   Mixed_Ethnicity  Indian  Pakistani  Bangladeshi  Chinese  Other_Asian  \\\n",
       "0               26      68          4            0        1           14   \n",
       "1               42      49         22            0        2           18   \n",
       "2               17      70          9            6        1            1   \n",
       "3               29     108          6            5        4            3   \n",
       "4               33      63         25            2        7           13   \n",
       "\n",
       "   Black_African_Caribbean  Other  group_desc list_type  patients  \\\n",
       "0                       27     15  Depression      18OV      1647   \n",
       "1                       28      1  Depression      18OV      1635   \n",
       "2                       13     12  Depression      18OV      1523   \n",
       "3                       45      5  Depression      18OV      1863   \n",
       "4                        7      2  Depression      18OV      1782   \n",
       "\n",
       "          ward_name  \n",
       "0  Sutton Four Oaks  \n",
       "1  Sutton Four Oaks  \n",
       "2  Sutton Four Oaks  \n",
       "3  Sutton Four Oaks  \n",
       "4  Sutton Four Oaks  "
      ]
     },
     "execution_count": 4,
     "metadata": {},
     "output_type": "execute_result"
    }
   ],
   "source": [
    "df.head()"
   ]
  },
  {
   "cell_type": "markdown",
   "metadata": {},
   "source": [
    "We don't want to use all of these columns for our clustering analysis. We will use the breakdown of ethnicities from the ONS (excluding 'All_ethnicities'), imd_decile and estimated_pats_with_condition."
   ]
  },
  {
   "cell_type": "code",
   "execution_count": 5,
   "metadata": {},
   "outputs": [
    {
     "data": {
      "text/html": [
       "<div>\n",
       "<style scoped>\n",
       "    .dataframe tbody tr th:only-of-type {\n",
       "        vertical-align: middle;\n",
       "    }\n",
       "\n",
       "    .dataframe tbody tr th {\n",
       "        vertical-align: top;\n",
       "    }\n",
       "\n",
       "    .dataframe thead th {\n",
       "        text-align: right;\n",
       "    }\n",
       "</style>\n",
       "<table border=\"1\" class=\"dataframe\">\n",
       "  <thead>\n",
       "    <tr style=\"text-align: right;\">\n",
       "      <th></th>\n",
       "      <th>Bangladeshi</th>\n",
       "      <th>Black_African_Caribbean</th>\n",
       "      <th>Chinese</th>\n",
       "      <th>Gypsy_traveller</th>\n",
       "      <th>Indian</th>\n",
       "      <th>Mixed_Ethnicity</th>\n",
       "      <th>Other</th>\n",
       "      <th>Other_Asian</th>\n",
       "      <th>Pakistani</th>\n",
       "      <th>White</th>\n",
       "      <th>imd_decile</th>\n",
       "      <th>estimated_pats_with_condition</th>\n",
       "    </tr>\n",
       "  </thead>\n",
       "  <tbody>\n",
       "    <tr>\n",
       "      <th>0</th>\n",
       "      <td>0</td>\n",
       "      <td>27</td>\n",
       "      <td>1</td>\n",
       "      <td>0</td>\n",
       "      <td>68</td>\n",
       "      <td>26</td>\n",
       "      <td>15</td>\n",
       "      <td>14</td>\n",
       "      <td>4</td>\n",
       "      <td>1338</td>\n",
       "      <td>7</td>\n",
       "      <td>81.437118</td>\n",
       "    </tr>\n",
       "    <tr>\n",
       "      <th>1</th>\n",
       "      <td>0</td>\n",
       "      <td>28</td>\n",
       "      <td>2</td>\n",
       "      <td>1</td>\n",
       "      <td>49</td>\n",
       "      <td>42</td>\n",
       "      <td>1</td>\n",
       "      <td>18</td>\n",
       "      <td>22</td>\n",
       "      <td>1308</td>\n",
       "      <td>5</td>\n",
       "      <td>82.308745</td>\n",
       "    </tr>\n",
       "    <tr>\n",
       "      <th>2</th>\n",
       "      <td>6</td>\n",
       "      <td>13</td>\n",
       "      <td>1</td>\n",
       "      <td>1</td>\n",
       "      <td>70</td>\n",
       "      <td>17</td>\n",
       "      <td>12</td>\n",
       "      <td>1</td>\n",
       "      <td>9</td>\n",
       "      <td>1192</td>\n",
       "      <td>6</td>\n",
       "      <td>79.739249</td>\n",
       "    </tr>\n",
       "    <tr>\n",
       "      <th>3</th>\n",
       "      <td>5</td>\n",
       "      <td>45</td>\n",
       "      <td>4</td>\n",
       "      <td>0</td>\n",
       "      <td>108</td>\n",
       "      <td>29</td>\n",
       "      <td>5</td>\n",
       "      <td>3</td>\n",
       "      <td>6</td>\n",
       "      <td>1554</td>\n",
       "      <td>9</td>\n",
       "      <td>90.585044</td>\n",
       "    </tr>\n",
       "    <tr>\n",
       "      <th>4</th>\n",
       "      <td>2</td>\n",
       "      <td>7</td>\n",
       "      <td>7</td>\n",
       "      <td>1</td>\n",
       "      <td>63</td>\n",
       "      <td>33</td>\n",
       "      <td>2</td>\n",
       "      <td>13</td>\n",
       "      <td>25</td>\n",
       "      <td>1485</td>\n",
       "      <td>10</td>\n",
       "      <td>89.069990</td>\n",
       "    </tr>\n",
       "  </tbody>\n",
       "</table>\n",
       "</div>"
      ],
      "text/plain": [
       "   Bangladeshi  Black_African_Caribbean  Chinese  Gypsy_traveller  Indian  \\\n",
       "0            0                       27        1                0      68   \n",
       "1            0                       28        2                1      49   \n",
       "2            6                       13        1                1      70   \n",
       "3            5                       45        4                0     108   \n",
       "4            2                        7        7                1      63   \n",
       "\n",
       "   Mixed_Ethnicity  Other  Other_Asian  Pakistani  White  imd_decile  \\\n",
       "0               26     15           14          4   1338           7   \n",
       "1               42      1           18         22   1308           5   \n",
       "2               17     12            1          9   1192           6   \n",
       "3               29      5            3          6   1554           9   \n",
       "4               33      2           13         25   1485          10   \n",
       "\n",
       "   estimated_pats_with_condition  \n",
       "0                      81.437118  \n",
       "1                      82.308745  \n",
       "2                      79.739249  \n",
       "3                      90.585044  \n",
       "4                      89.069990  "
      ]
     },
     "execution_count": 5,
     "metadata": {},
     "output_type": "execute_result"
    }
   ],
   "source": [
    "columns_to_analyse = [\"Bangladeshi\", \"Black_African_Caribbean\", \"Chinese\", \"Gypsy_traveller\", \"Indian\", \"Mixed_Ethnicity\", \"Other\", \"Other_Asian\", \"Pakistani\", \"White\", \"imd_decile\", \"estimated_pats_with_condition\"]\n",
    "df = df[[\"Bangladeshi\", \"Black_African_Caribbean\", \"Chinese\", \"Gypsy_traveller\", \"Indian\", \"Mixed_Ethnicity\", \"Other\", \"Other_Asian\", \"Pakistani\", \"White\", \"imd_decile\", \"estimated_pats_with_condition\"]]\n",
    "df.head()\n"
   ]
  },
  {
   "cell_type": "markdown",
   "metadata": {},
   "source": [
    "Before peforming our clustering we standarise the data so that each column has a mean of 0 and a standard deviation of 1."
   ]
  },
  {
   "cell_type": "code",
   "execution_count": 6,
   "metadata": {},
   "outputs": [],
   "source": [
    "scaler = preprocessing.StandardScaler()\n",
    "df_scaled = scaler.fit_transform(df)\n",
    "df_scaled = pd.DataFrame(df_scaled, columns=[\"Bangladeshi\", \"Black_African_Caribbean\", \"Chinese\", \"Gypsy_traveller\", \"Indian\", \"Mixed_Ethnicity\", \"Other\", \"Other_Asian\", \"Pakistani\", \"White\", \"imd_decile\", \"estimated_pats_with_condition\"])"
   ]
  },
  {
   "cell_type": "markdown",
   "metadata": {},
   "source": [
    "Let's take a look at the first few rows and see if that looks like it has worked."
   ]
  },
  {
   "cell_type": "code",
   "execution_count": 7,
   "metadata": {},
   "outputs": [
    {
     "data": {
      "text/html": [
       "<div>\n",
       "<style scoped>\n",
       "    .dataframe tbody tr th:only-of-type {\n",
       "        vertical-align: middle;\n",
       "    }\n",
       "\n",
       "    .dataframe tbody tr th {\n",
       "        vertical-align: top;\n",
       "    }\n",
       "\n",
       "    .dataframe thead th {\n",
       "        text-align: right;\n",
       "    }\n",
       "</style>\n",
       "<table border=\"1\" class=\"dataframe\">\n",
       "  <thead>\n",
       "    <tr style=\"text-align: right;\">\n",
       "      <th></th>\n",
       "      <th>Bangladeshi</th>\n",
       "      <th>Black_African_Caribbean</th>\n",
       "      <th>Chinese</th>\n",
       "      <th>Gypsy_traveller</th>\n",
       "      <th>Indian</th>\n",
       "      <th>Mixed_Ethnicity</th>\n",
       "      <th>Other</th>\n",
       "      <th>Other_Asian</th>\n",
       "      <th>Pakistani</th>\n",
       "      <th>White</th>\n",
       "      <th>imd_decile</th>\n",
       "      <th>estimated_pats_with_condition</th>\n",
       "    </tr>\n",
       "  </thead>\n",
       "  <tbody>\n",
       "    <tr>\n",
       "      <th>0</th>\n",
       "      <td>-0.502129</td>\n",
       "      <td>-0.803018</td>\n",
       "      <td>-0.488504</td>\n",
       "      <td>-0.441661</td>\n",
       "      <td>-0.249499</td>\n",
       "      <td>-1.377644</td>\n",
       "      <td>-0.414034</td>\n",
       "      <td>-0.772845</td>\n",
       "      <td>-0.649881</td>\n",
       "      <td>0.776525</td>\n",
       "      <td>1.711785</td>\n",
       "      <td>-1.113455</td>\n",
       "    </tr>\n",
       "    <tr>\n",
       "      <th>1</th>\n",
       "      <td>-0.502129</td>\n",
       "      <td>-0.796531</td>\n",
       "      <td>-0.462648</td>\n",
       "      <td>0.250058</td>\n",
       "      <td>-0.392593</td>\n",
       "      <td>-0.923156</td>\n",
       "      <td>-0.717165</td>\n",
       "      <td>-0.683871</td>\n",
       "      <td>-0.597267</td>\n",
       "      <td>0.712843</td>\n",
       "      <td>0.854887</td>\n",
       "      <td>-1.091016</td>\n",
       "    </tr>\n",
       "    <tr>\n",
       "      <th>2</th>\n",
       "      <td>-0.442951</td>\n",
       "      <td>-0.893829</td>\n",
       "      <td>-0.488504</td>\n",
       "      <td>0.250058</td>\n",
       "      <td>-0.234436</td>\n",
       "      <td>-1.633293</td>\n",
       "      <td>-0.478991</td>\n",
       "      <td>-1.062009</td>\n",
       "      <td>-0.635266</td>\n",
       "      <td>0.466605</td>\n",
       "      <td>1.283336</td>\n",
       "      <td>-1.157164</td>\n",
       "    </tr>\n",
       "    <tr>\n",
       "      <th>3</th>\n",
       "      <td>-0.452814</td>\n",
       "      <td>-0.686261</td>\n",
       "      <td>-0.410937</td>\n",
       "      <td>-0.441661</td>\n",
       "      <td>0.051753</td>\n",
       "      <td>-1.292427</td>\n",
       "      <td>-0.630556</td>\n",
       "      <td>-1.017522</td>\n",
       "      <td>-0.644035</td>\n",
       "      <td>1.235037</td>\n",
       "      <td>2.568683</td>\n",
       "      <td>-0.877955</td>\n",
       "    </tr>\n",
       "    <tr>\n",
       "      <th>4</th>\n",
       "      <td>-0.482403</td>\n",
       "      <td>-0.932748</td>\n",
       "      <td>-0.333371</td>\n",
       "      <td>0.250058</td>\n",
       "      <td>-0.287155</td>\n",
       "      <td>-1.178805</td>\n",
       "      <td>-0.695512</td>\n",
       "      <td>-0.795088</td>\n",
       "      <td>-0.588498</td>\n",
       "      <td>1.088568</td>\n",
       "      <td>2.997133</td>\n",
       "      <td>-0.916958</td>\n",
       "    </tr>\n",
       "  </tbody>\n",
       "</table>\n",
       "</div>"
      ],
      "text/plain": [
       "   Bangladeshi  Black_African_Caribbean   Chinese  Gypsy_traveller    Indian  \\\n",
       "0    -0.502129                -0.803018 -0.488504        -0.441661 -0.249499   \n",
       "1    -0.502129                -0.796531 -0.462648         0.250058 -0.392593   \n",
       "2    -0.442951                -0.893829 -0.488504         0.250058 -0.234436   \n",
       "3    -0.452814                -0.686261 -0.410937        -0.441661  0.051753   \n",
       "4    -0.482403                -0.932748 -0.333371         0.250058 -0.287155   \n",
       "\n",
       "   Mixed_Ethnicity     Other  Other_Asian  Pakistani     White  imd_decile  \\\n",
       "0        -1.377644 -0.414034    -0.772845  -0.649881  0.776525    1.711785   \n",
       "1        -0.923156 -0.717165    -0.683871  -0.597267  0.712843    0.854887   \n",
       "2        -1.633293 -0.478991    -1.062009  -0.635266  0.466605    1.283336   \n",
       "3        -1.292427 -0.630556    -1.017522  -0.644035  1.235037    2.568683   \n",
       "4        -1.178805 -0.695512    -0.795088  -0.588498  1.088568    2.997133   \n",
       "\n",
       "   estimated_pats_with_condition  \n",
       "0                      -1.113455  \n",
       "1                      -1.091016  \n",
       "2                      -1.157164  \n",
       "3                      -0.877955  \n",
       "4                      -0.916958  "
      ]
     },
     "execution_count": 7,
     "metadata": {},
     "output_type": "execute_result"
    }
   ],
   "source": [
    "df_scaled.head()"
   ]
  },
  {
   "cell_type": "markdown",
   "metadata": {},
   "source": [
    "That looks broadly correct. We can now look at the mean and standard deviation of the columns in the dataframe."
   ]
  },
  {
   "cell_type": "code",
   "execution_count": 8,
   "metadata": {},
   "outputs": [
    {
     "name": "stdout",
     "output_type": "stream",
     "text": [
      "Bangladeshi                                    -0.00\n",
      "Black_African_Caribbean                        -0.00\n",
      "Chinese                                        -0.00\n",
      "Gypsy_traveller                                 0.00\n",
      "Indian                                         -0.00\n",
      "Mixed_Ethnicity                                -0.00\n",
      "Other                                          -0.00\n",
      "Other_Asian                                    -0.00\n",
      "Pakistani                                       0.00\n",
      "White                                          -0.00\n",
      "imd_decile                                     -0.00\n",
      "estimated_pats_with_condition                  -0.00\n",
      "dtype: float64\n"
     ]
    }
   ],
   "source": [
    "pd.options.display.float_format = '{:20,.2f}'.format\n",
    "print (df_scaled.mean())\n",
    "#print (df_scaled.mean().round(10))"
   ]
  },
  {
   "cell_type": "code",
   "execution_count": 9,
   "metadata": {},
   "outputs": [
    {
     "name": "stdout",
     "output_type": "stream",
     "text": [
      "Bangladeshi                                     1.00\n",
      "Black_African_Caribbean                         1.00\n",
      "Chinese                                         1.00\n",
      "Gypsy_traveller                                 1.00\n",
      "Indian                                          1.00\n",
      "Mixed_Ethnicity                                 1.00\n",
      "Other                                           1.00\n",
      "Other_Asian                                     1.00\n",
      "Pakistani                                       1.00\n",
      "White                                           1.00\n",
      "imd_decile                                      1.00\n",
      "estimated_pats_with_condition                   1.00\n",
      "dtype: float64\n"
     ]
    }
   ],
   "source": [
    "print (df_scaled.std())"
   ]
  },
  {
   "cell_type": "markdown",
   "metadata": {},
   "source": [
    "So, we have a mean of 0 and a standard deviation of 1, which is what we wanted."
   ]
  },
  {
   "cell_type": "markdown",
   "metadata": {},
   "source": [
    "# Using SelectKBest to determine the relative importance of features\n",
    "\n",
    "One way of exploring the relative strength of the correlations between estimated_pats_with_condition and the other features is to use SelectKBest from SKLearn.\n",
    "\n",
    "This is usually used to select the features that are most influential in predicting a target. I thought that by using the 'estimated_pats_with_condition' column as the target then we could train the other features to predict it and iterate through values of k in SelectKBest to see the order in which features are selected.\n",
    "\n",
    "First we separate the DataFrame out so that we have:\n",
    "\n",
    "- 'featuresToFit' - the features that can be used to predict our target \n",
    "- 'labels' - our target, the 'estimated_pats_with_condition' column"
   ]
  },
  {
   "cell_type": "code",
   "execution_count": 10,
   "metadata": {},
   "outputs": [],
   "source": [
    "featuresToFit = df.drop(columns=['estimated_pats_with_condition'])\n",
    "labels = df[['estimated_pats_with_condition']]"
   ]
  },
  {
   "cell_type": "markdown",
   "metadata": {},
   "source": [
    "Next, we use i to iterate through the numbers 1 to 21. In each case we select the i features that are the strongest predictors for our target."
   ]
  },
  {
   "cell_type": "code",
   "execution_count": 11,
   "metadata": {},
   "outputs": [
    {
     "name": "stdout",
     "output_type": "stream",
     "text": [
      "Selecting the 1 best features\n",
      " \n",
      "Scores for all of the features\n",
      "[  5.953   2.297  10.38    2.672   0.911 102.877   1.027   0.196  12.654\n",
      " 132.353  18.109]\n",
      " \n",
      "Indices selected\n",
      "[9]\n",
      " \n",
      "Names of the selected features\n",
      "[u'White']  \n",
      "\n",
      "Selecting the 2 best features\n",
      " \n",
      "Scores for all of the features\n",
      "[  5.953   2.297  10.38    2.672   0.911 102.877   1.027   0.196  12.654\n",
      " 132.353  18.109]\n",
      " \n",
      "Indices selected\n",
      "[5 9]\n",
      " \n",
      "Names of the selected features\n",
      "[u'Mixed_Ethnicity', u'White']  \n",
      "\n",
      "Selecting the 3 best features\n",
      " \n",
      "Scores for all of the features\n",
      "[  5.953   2.297  10.38    2.672   0.911 102.877   1.027   0.196  12.654\n",
      " 132.353  18.109]\n",
      " \n",
      "Indices selected\n",
      "[ 5  9 10]\n",
      " \n",
      "Names of the selected features\n",
      "[u'Mixed_Ethnicity', u'White', u'imd_decile']  \n",
      "\n",
      "Selecting the 4 best features\n",
      " \n",
      "Scores for all of the features\n",
      "[  5.953   2.297  10.38    2.672   0.911 102.877   1.027   0.196  12.654\n",
      " 132.353  18.109]\n",
      " \n",
      "Indices selected\n",
      "[ 5  8  9 10]\n",
      " \n",
      "Names of the selected features\n",
      "[u'Mixed_Ethnicity', u'Pakistani', u'White', u'imd_decile']  \n",
      "\n",
      "Selecting the 5 best features\n",
      " \n",
      "Scores for all of the features\n",
      "[  5.953   2.297  10.38    2.672   0.911 102.877   1.027   0.196  12.654\n",
      " 132.353  18.109]\n",
      " \n",
      "Indices selected\n",
      "[ 2  5  8  9 10]\n",
      " \n",
      "Names of the selected features\n",
      "[u'Chinese', u'Mixed_Ethnicity', u'Pakistani', u'White', u'imd_decile']  \n",
      "\n",
      "Selecting the 6 best features\n",
      " \n",
      "Scores for all of the features\n",
      "[  5.953   2.297  10.38    2.672   0.911 102.877   1.027   0.196  12.654\n",
      " 132.353  18.109]\n",
      " \n",
      "Indices selected\n",
      "[ 0  2  5  8  9 10]\n",
      " \n",
      "Names of the selected features\n",
      "[u'Bangladeshi', u'Chinese', u'Mixed_Ethnicity', u'Pakistani', u'White', u'imd_decile']  \n",
      "\n",
      "Selecting the 7 best features\n",
      " \n",
      "Scores for all of the features\n",
      "[  5.953   2.297  10.38    2.672   0.911 102.877   1.027   0.196  12.654\n",
      " 132.353  18.109]\n",
      " \n",
      "Indices selected\n",
      "[ 0  2  3  5  8  9 10]\n",
      " \n",
      "Names of the selected features\n",
      "[u'Bangladeshi', u'Chinese', u'Gypsy_traveller', u'Mixed_Ethnicity', u'Pakistani', u'White', u'imd_decile']  \n",
      "\n",
      "Selecting the 8 best features\n",
      " \n",
      "Scores for all of the features\n",
      "[  5.953   2.297  10.38    2.672   0.911 102.877   1.027   0.196  12.654\n",
      " 132.353  18.109]\n",
      " \n",
      "Indices selected\n",
      "[ 0  1  2  3  5  8  9 10]\n",
      " \n",
      "Names of the selected features\n",
      "[u'Bangladeshi', u'Black_African_Caribbean', u'Chinese', u'Gypsy_traveller', u'Mixed_Ethnicity', u'Pakistani', u'White', u'imd_decile']  \n",
      "\n",
      "Selecting the 9 best features\n",
      " \n",
      "Scores for all of the features\n",
      "[  5.953   2.297  10.38    2.672   0.911 102.877   1.027   0.196  12.654\n",
      " 132.353  18.109]\n",
      " \n",
      "Indices selected\n",
      "[ 0  1  2  3  5  6  8  9 10]\n",
      " \n",
      "Names of the selected features\n",
      "[u'Bangladeshi', u'Black_African_Caribbean', u'Chinese', u'Gypsy_traveller', u'Mixed_Ethnicity', u'Other', u'Pakistani', u'White', u'imd_decile']  \n",
      "\n",
      "Selecting the 10 best features\n",
      " \n",
      "Scores for all of the features\n",
      "[  5.953   2.297  10.38    2.672   0.911 102.877   1.027   0.196  12.654\n",
      " 132.353  18.109]\n",
      " \n",
      "Indices selected\n",
      "[ 0  1  2  3  4  5  6  8  9 10]\n",
      " \n",
      "Names of the selected features\n",
      "[u'Bangladeshi', u'Black_African_Caribbean', u'Chinese', u'Gypsy_traveller', u'Indian', u'Mixed_Ethnicity', u'Other', u'Pakistani', u'White', u'imd_decile']  \n",
      "\n",
      "Selecting the 11 best features\n",
      " \n",
      "Scores for all of the features\n",
      "[  5.953   2.297  10.38    2.672   0.911 102.877   1.027   0.196  12.654\n",
      " 132.353  18.109]\n",
      " \n",
      "Indices selected\n",
      "[ 0  1  2  3  4  5  6  7  8  9 10]\n",
      " \n",
      "Names of the selected features\n",
      "[u'Bangladeshi', u'Black_African_Caribbean', u'Chinese', u'Gypsy_traveller', u'Indian', u'Mixed_Ethnicity', u'Other', u'Other_Asian', u'Pakistani', u'White', u'imd_decile']  \n",
      "\n"
     ]
    }
   ],
   "source": [
    "for i in [1, 2, 3, 4, 5, 6, 7, 8, 9, 10, 11]:\n",
    "    # feature extraction\n",
    "    featureSelector = SelectKBest(f_regression,k=i)\n",
    "    featureSelector.fit(featuresToFit, labels.values.ravel())\n",
    "    # summarize scores\n",
    "    np.set_printoptions(precision=3)\n",
    "    print \"Selecting the\", i, \"best features\"\n",
    "    print (\" \\nScores for all of the features\")\n",
    "    print(featureSelector.scores_)\n",
    "    features = featureSelector.transform(featuresToFit)\n",
    "    # summarize selected features\n",
    "    #print(features)\n",
    "    #featureSelector.scores_\n",
    "    #featureSelector.pvalues_\n",
    "    idxs_selected = featureSelector.get_support(indices=True)\n",
    "    print (\" \\nIndices selected\")\n",
    "    print (idxs_selected)\n",
    "    print \" \\nNames of the selected features\"\n",
    "    feature_list = featuresToFit.columns[featureSelector.get_support()].tolist()\n",
    "    print (feature_list), \" \\n\""
   ]
  },
  {
   "cell_type": "markdown",
   "metadata": {},
   "source": [
    "From the above, the order of importance of the features when estimating the 'estimated_pats_with_condition' is:\n",
    "\n",
    "White, Mixed_Ethnicity, imd_decile, Pakistani, Chinese, Bangladeshi, Gypsy_traveller, Black_African_Caribbean, Other, Indian, Other_Asian"
   ]
  },
  {
   "cell_type": "markdown",
   "metadata": {},
   "source": [
    "## Hierarchical Clustering\n",
    "Feedback from BCU Big Data Corridor suggested using hierarchical clustering rather than kmeans. I didn't find it that easy to discover examples and explanations online. I ended up following https://joernhees.de/blog/2015/08/26/scipy-hierarchical-clustering-and-dendrogram-tutorial/.\n",
    "\n",
    "The hierarchical clustering used below is a form of agglomerative clustering. It starts by making each row in the dataframe its own cluster. So, in our example we have 639 clusters to begin with. It then calculates the distances for all pairings of clusters, based on the method provided, and merges the two clusters with the least distance value.\n",
    "\n",
    "The code below creates a matrix, Z, where each row represents a stage in the clustering process and has four entries. The first two entries are the rows of the data frame df that are going to be clustered together, the third entry is the distance value and the fourth is the number of rows in the newly formed cluster.\n",
    "\n",
    "The linkage function used below is passed the 'ward' method. Ward refers to Joe H. Ward, Jr. who originally proposed this method. It has no connection to ward based geography! In particular, this method performs Ward's minimum variance method. This determines the pairing of two clusters that leads to the minimum increase in total within-cluster variance after merging."
   ]
  },
  {
   "cell_type": "code",
   "execution_count": 12,
   "metadata": {},
   "outputs": [],
   "source": [
    "# generate the linkage matrix. \n",
    "Z = linkage(df_scaled, 'ward')"
   ]
  },
  {
   "cell_type": "code",
   "execution_count": 13,
   "metadata": {},
   "outputs": [
    {
     "data": {
      "text/plain": [
       "array([[458.   , 460.   ,   0.203,   2.   ],\n",
       "       [ 56.   ,  59.   ,   0.226,   2.   ],\n",
       "       [552.   , 572.   ,   0.264,   2.   ],\n",
       "       [ 53.   ,  67.   ,   0.296,   2.   ],\n",
       "       [ 40.   ,  98.   ,   0.337,   2.   ],\n",
       "       [478.   , 574.   ,   0.361,   2.   ],\n",
       "       [ 51.   , 274.   ,   0.367,   2.   ],\n",
       "       [134.   , 310.   ,   0.377,   2.   ],\n",
       "       [ 50.   ,  52.   ,   0.378,   2.   ],\n",
       "       [ 14.   ,  48.   ,   0.383,   2.   ],\n",
       "       [ 19.   , 367.   ,   0.385,   2.   ],\n",
       "       [ 11.   ,  57.   ,   0.393,   2.   ],\n",
       "       [326.   , 529.   ,   0.397,   2.   ],\n",
       "       [  9.   ,  58.   ,   0.397,   2.   ],\n",
       "       [ 61.   , 397.   ,   0.417,   2.   ],\n",
       "       [368.   , 643.   ,   0.421,   3.   ],\n",
       "       [551.   , 569.   ,   0.425,   2.   ],\n",
       "       [466.   , 500.   ,   0.43 ,   2.   ],\n",
       "       [285.   , 288.   ,   0.434,   2.   ],\n",
       "       [327.   , 345.   ,   0.451,   2.   ]])"
      ]
     },
     "execution_count": 13,
     "metadata": {},
     "output_type": "execute_result"
    }
   ],
   "source": [
    "Z[:20]"
   ]
  },
  {
   "cell_type": "markdown",
   "metadata": {},
   "source": [
    "A dendrogram is a graphical representation of the clustering that has been performed. We can use this to explore how the clustering has been generated. It shows the order in which clustering has occured as well as the distances involved in each of the clusters. \n",
    "\n",
    "The order in which clustering occurs is read from the bottom of the dendrogram upwards (agglomerative clustering is classed as a bottom-up form of clustering). At the very bottom of the dendrogram each row is its own cluster and at the very top all of the rows have been clustered together.\n",
    "\n",
    "One of the principal uses of a dendrogram is to understand the order of clustering and the distances involved at each step of the clustering process. This is with a view to choosing the cut off point where we decide the optimum number of clusters for our dataframe."
   ]
  },
  {
   "cell_type": "code",
   "execution_count": 14,
   "metadata": {},
   "outputs": [
    {
     "data": {
      "image/png": "[encoded data removed]",
      "text/plain": [
       "<matplotlib.figure.Figure at 0xc65de80>"
      ]
     },
     "metadata": {},
     "output_type": "display_data"
    }
   ],
   "source": [
    "# calculate full dendrogram\n",
    "plt.figure(figsize=(25, 10))\n",
    "plt.title('Hierarchical Clustering Dendrogram')\n",
    "plt.xlabel('sample index')\n",
    "plt.ylabel('distance')\n",
    "dendrogram(\n",
    "    Z,\n",
    "    leaf_rotation=90.,  # rotates the x axis labels\n",
    "    leaf_font_size=8.,  # font size for the x axis labels\n",
    ")\n",
    "plt.show()"
   ]
  },
  {
   "cell_type": "markdown",
   "metadata": {},
   "source": [
    "We have already seen the distances associated with the first twenty steps in the clustering process. Having viewed the complete dendrogram we now look at the final twenty steps in the clustering process. Note how the distances increase in value quite rapidly, especially over the final six/seven steps."
   ]
  },
  {
   "cell_type": "code",
   "execution_count": 15,
   "metadata": {},
   "outputs": [
    {
     "data": {
      "text/plain": [
       "array([[1239.   , 1244.   ,   10.884,   25.   ],\n",
       "       [1234.   , 1248.   ,   11.051,   20.   ],\n",
       "       [1240.   , 1247.   ,   11.751,   92.   ],\n",
       "       [1242.   , 1245.   ,   13.025,   33.   ],\n",
       "       [1209.   , 1253.   ,   13.306,  150.   ],\n",
       "       [1243.   , 1251.   ,   13.468,   51.   ],\n",
       "       [1250.   , 1256.   ,   13.576,  171.   ],\n",
       "       [ 395.   , 1252.   ,   13.595,   12.   ],\n",
       "       [1236.   , 1254.   ,   14.077,   33.   ],\n",
       "       [1228.   , 1255.   ,   16.088,   16.   ],\n",
       "       [1259.   , 1263.   ,   16.088,  263.   ],\n",
       "       [1249.   , 1260.   ,   18.473,   69.   ],\n",
       "       [1262.   , 1264.   ,   19.662,   63.   ],\n",
       "       [1265.   , 1269.   ,   21.016,   96.   ],\n",
       "       [1257.   , 1268.   ,   24.744,   94.   ],\n",
       "       [1258.   , 1271.   ,   25.547,  114.   ],\n",
       "       [1266.   , 1272.   ,   29.018,  130.   ],\n",
       "       [1261.   , 1267.   ,   31.626,  413.   ],\n",
       "       [1270.   , 1273.   ,   34.671,  226.   ],\n",
       "       [1274.   , 1275.   ,   60.181,  639.   ]])"
      ]
     },
     "execution_count": 15,
     "metadata": {},
     "output_type": "execute_result"
    }
   ],
   "source": [
    "Z[-20:]"
   ]
  },
  {
   "cell_type": "markdown",
   "metadata": {},
   "source": [
    "Next, we can look at the dendrogram for the last twenty steps in the clustering process."
   ]
  },
  {
   "cell_type": "code",
   "execution_count": 16,
   "metadata": {},
   "outputs": [
    {
     "data": {
      "image/png": "[encoded data removed]",
      "text/plain": [
       "<matplotlib.figure.Figure at 0xf2ce240>"
      ]
     },
     "metadata": {},
     "output_type": "display_data"
    }
   ],
   "source": [
    "plt.title('Hierarchical Clustering Dendrogram (truncated)')\n",
    "plt.xlabel('sample index or (cluster size)')\n",
    "plt.ylabel('distance')\n",
    "dendrogram(\n",
    "    Z,\n",
    "    truncate_mode='lastp',  # show only the last p merged clusters\n",
    "    p=20,  # show only the last p merged clusters\n",
    "    leaf_rotation=90.,\n",
    "    leaf_font_size=12.,\n",
    "    show_contracted=True,  # to get a distribution impression in truncated branches\n",
    ")\n",
    "plt.show()"
   ]
  },
  {
   "cell_type": "markdown",
   "metadata": {},
   "source": [
    "We can change the value of p to view just the last 10 steps in the process."
   ]
  },
  {
   "cell_type": "code",
   "execution_count": 17,
   "metadata": {},
   "outputs": [
    {
     "data": {
      "image/png": "[encoded data removed]",
      "text/plain": [
       "<matplotlib.figure.Figure at 0xf950358>"
      ]
     },
     "metadata": {},
     "output_type": "display_data"
    }
   ],
   "source": [
    "plt.title('Hierarchical Clustering Dendrogram (truncated)')\n",
    "plt.xlabel('sample index or (cluster size)')\n",
    "plt.ylabel('distance')\n",
    "dendrogram(\n",
    "    Z,\n",
    "    truncate_mode='lastp',  # show only the last p merged clusters\n",
    "    p=10,  # show only the last p merged clusters\n",
    "    leaf_rotation=90.,\n",
    "    leaf_font_size=12.,\n",
    "    show_contracted=True,  # to get a distribution impression in truncated branches\n",
    ")\n",
    "plt.show()"
   ]
  },
  {
   "cell_type": "markdown",
   "metadata": {},
   "source": [
    "We can also look at a bar graph showing the distances associated with the final twenty steps in the clustering process"
   ]
  },
  {
   "cell_type": "code",
   "execution_count": 18,
   "metadata": {},
   "outputs": [
    {
     "data": {
      "text/plain": [
       "<Container object of 20 artists>"
      ]
     },
     "execution_count": 18,
     "metadata": {},
     "output_type": "execute_result"
    },
    {
     "data": {
      "image/png": "[encoded data removed]",
      "text/plain": [
       "<matplotlib.figure.Figure at 0xf9494a8>"
      ]
     },
     "metadata": {},
     "output_type": "display_data"
    }
   ],
   "source": [
    "last = Z[-20:, 2]\n",
    "last_rev = last[::-1]\n",
    "idxs = np.arange(len(last) + 1, 1, -1)\n",
    "plt.bar(idxs, last_rev)"
   ]
  },
  {
   "cell_type": "markdown",
   "metadata": {},
   "source": [
    "I have to admit that I find the decision of how many clusters to choose a bit baffling. In this instance, we go for five clusters."
   ]
  },
  {
   "cell_type": "code",
   "execution_count": 19,
   "metadata": {},
   "outputs": [
    {
     "name": "stdout",
     "output_type": "stream",
     "text": [
      "[1 1 1 1 1 1 1 1 1 1 1 1 1 1 1 1 1 1 1 2 1 1 2 1 2 1 1 1 1 1 2 1 1 1 2 2 1\n",
      " 2 1 1 1 1 1 1 1 1 1 1 1 2 2 2 2 2 2 2 1 1 1 1 1 1 2 1 1 2 2 2 2 2 1 1 1 1\n",
      " 1 1 1 1 1 1 1 1 2 2 2 1 2 1 1 1 1 1 1 2 2 2 2 2 1 2 1 1 2 5 2 2 2 2 2 2 2\n",
      " 1 1 5 5 2 1 2 2 2 1 2 2 2 1 2 2 2 2 2 2 2 2 2 2 2 2 2 2 5 2 2 2 2 2 5 2 2\n",
      " 5 5 5 2 5 3 3 5 5 3 4 5 5 5 5 5 5 5 3 3 5 5 5 5 5 5 5 2 3 3 3 5 2 2 2 5 3\n",
      " 5 5 5 5 3 3 3 3 3 3 3 3 5 3 1 3 3 5 5 5 2 3 3 5 3 3 2 2 2 2 2 2 2 2 2 5 5\n",
      " 5 5 5 3 3 3 3 3 3 5 5 2 3 3 5 5 4 4 3 3 3 3 3 3 5 5 3 5 3 5 5 5 2 2 2 2 2\n",
      " 2 3 3 3 3 3 2 2 2 5 2 2 2 2 2 2 3 3 3 3 3 5 5 5 5 5 2 2 2 2 3 3 3 3 5 2 5\n",
      " 5 5 5 2 2 2 3 3 2 2 2 2 1 1 2 2 2 2 2 3 3 3 3 3 5 3 3 3 5 1 1 1 1 5 1 5 5\n",
      " 5 5 1 5 5 1 1 1 1 1 1 2 1 1 3 3 3 3 2 2 2 2 5 1 1 4 2 2 1 1 2 2 2 2 2 1 1\n",
      " 1 3 5 3 3 3 3 5 3 5 3 3 3 3 5 5 2 2 5 1 4 4 4 5 1 3 2 1 2 2 2 2 2 5 2 2 2\n",
      " 2 3 2 2 2 2 2 1 3 2 5 2 2 2 2 2 2 2 5 2 2 4 2 2 2 4 3 5 3 5 5 3 2 2 5 5 1\n",
      " 5 2 5 1 2 2 2 2 1 2 2 2 2 1 2 1 2 2 2 2 2 2 2 2 2 1 2 2 1 2 5 5 2 2 2 2 2\n",
      " 5 2 2 2 1 2 5 5 5 5 2 1 2 2 1 1 1 2 1 2 2 2 2 2 1 1 1 1 2 2 1 2 5 2 2 2 2\n",
      " 1 1 2 2 2 2 2 1 2 2 2 1 2 2 2 2 2 1 1 1 1 2 2 2 2 2 2 2 1 1 1 2 2 1 2 1 1\n",
      " 1 2 2 2 2 2 2 2 2 2 2 2 2 1 1 2 1 2 2 2 2 2 2 2 2 2 1 2 2 2 2 1 1 1 2 1 1\n",
      " 1 1 1 5 5 5 5 5 5 5 5 4 2 2 5 5 4 4 2 5 5 4 5 5 2 2 2 2 4 4 2 4 5 3 3 3 3\n",
      " 3 3 3 3 5 3 3 3 5 3]\n"
     ]
    }
   ],
   "source": [
    "print (fcluster(Z, 5,criterion='maxclust'))"
   ]
  },
  {
   "cell_type": "markdown",
   "metadata": {},
   "source": [
    "We create a new column, 'cluster' in the original DataFrame and then populate it with the values from our clustering analysis."
   ]
  },
  {
   "cell_type": "code",
   "execution_count": 20,
   "metadata": {},
   "outputs": [],
   "source": [
    "df_orig['cluster'] = (fcluster(Z, 5,criterion='maxclust'))"
   ]
  },
  {
   "cell_type": "markdown",
   "metadata": {},
   "source": [
    "A quick look, this time at the last five rows in the DataFrame, and all appears to be good."
   ]
  },
  {
   "cell_type": "code",
   "execution_count": 21,
   "metadata": {},
   "outputs": [
    {
     "data": {
      "text/html": [
       "<div>\n",
       "<style scoped>\n",
       "    .dataframe tbody tr th:only-of-type {\n",
       "        vertical-align: middle;\n",
       "    }\n",
       "\n",
       "    .dataframe tbody tr th {\n",
       "        vertical-align: top;\n",
       "    }\n",
       "\n",
       "    .dataframe thead th {\n",
       "        text-align: right;\n",
       "    }\n",
       "</style>\n",
       "<table border=\"1\" class=\"dataframe\">\n",
       "  <thead>\n",
       "    <tr style=\"text-align: right;\">\n",
       "      <th></th>\n",
       "      <th>lsoa</th>\n",
       "      <th>imd_rank</th>\n",
       "      <th>imd_decile</th>\n",
       "      <th>indicator_group</th>\n",
       "      <th>estimated_pats_with_condition</th>\n",
       "      <th>All_ethnicities</th>\n",
       "      <th>White</th>\n",
       "      <th>Gypsy_traveller</th>\n",
       "      <th>Mixed_Ethnicity</th>\n",
       "      <th>Indian</th>\n",
       "      <th>...</th>\n",
       "      <th>Bangladeshi</th>\n",
       "      <th>Chinese</th>\n",
       "      <th>Other_Asian</th>\n",
       "      <th>Black_African_Caribbean</th>\n",
       "      <th>Other</th>\n",
       "      <th>group_desc</th>\n",
       "      <th>list_type</th>\n",
       "      <th>patients</th>\n",
       "      <th>ward_name</th>\n",
       "      <th>cluster</th>\n",
       "    </tr>\n",
       "  </thead>\n",
       "  <tbody>\n",
       "    <tr>\n",
       "      <th>634</th>\n",
       "      <td>E01009382</td>\n",
       "      <td>3112</td>\n",
       "      <td>1</td>\n",
       "      <td>DEP</td>\n",
       "      <td>114.14</td>\n",
       "      <td>1836</td>\n",
       "      <td>130</td>\n",
       "      <td>0</td>\n",
       "      <td>25</td>\n",
       "      <td>153</td>\n",
       "      <td>...</td>\n",
       "      <td>53</td>\n",
       "      <td>10</td>\n",
       "      <td>156</td>\n",
       "      <td>73</td>\n",
       "      <td>70</td>\n",
       "      <td>Depression</td>\n",
       "      <td>18OV</td>\n",
       "      <td>2360</td>\n",
       "      <td>Springfield</td>\n",
       "      <td>3</td>\n",
       "    </tr>\n",
       "    <tr>\n",
       "      <th>635</th>\n",
       "      <td>E01009391</td>\n",
       "      <td>4583</td>\n",
       "      <td>2</td>\n",
       "      <td>DEP</td>\n",
       "      <td>101.84</td>\n",
       "      <td>1622</td>\n",
       "      <td>198</td>\n",
       "      <td>0</td>\n",
       "      <td>45</td>\n",
       "      <td>226</td>\n",
       "      <td>...</td>\n",
       "      <td>59</td>\n",
       "      <td>5</td>\n",
       "      <td>100</td>\n",
       "      <td>92</td>\n",
       "      <td>19</td>\n",
       "      <td>Depression</td>\n",
       "      <td>18OV</td>\n",
       "      <td>2371</td>\n",
       "      <td>Springfield</td>\n",
       "      <td>3</td>\n",
       "    </tr>\n",
       "    <tr>\n",
       "      <th>636</th>\n",
       "      <td>E01009392</td>\n",
       "      <td>6807</td>\n",
       "      <td>3</td>\n",
       "      <td>DEP</td>\n",
       "      <td>102.99</td>\n",
       "      <td>1774</td>\n",
       "      <td>203</td>\n",
       "      <td>0</td>\n",
       "      <td>37</td>\n",
       "      <td>214</td>\n",
       "      <td>...</td>\n",
       "      <td>79</td>\n",
       "      <td>6</td>\n",
       "      <td>126</td>\n",
       "      <td>44</td>\n",
       "      <td>60</td>\n",
       "      <td>Depression</td>\n",
       "      <td>18OV</td>\n",
       "      <td>2110</td>\n",
       "      <td>Springfield</td>\n",
       "      <td>3</td>\n",
       "    </tr>\n",
       "    <tr>\n",
       "      <th>637</th>\n",
       "      <td>E01009393</td>\n",
       "      <td>4120</td>\n",
       "      <td>2</td>\n",
       "      <td>DEP</td>\n",
       "      <td>97.00</td>\n",
       "      <td>1645</td>\n",
       "      <td>183</td>\n",
       "      <td>5</td>\n",
       "      <td>57</td>\n",
       "      <td>169</td>\n",
       "      <td>...</td>\n",
       "      <td>38</td>\n",
       "      <td>9</td>\n",
       "      <td>81</td>\n",
       "      <td>76</td>\n",
       "      <td>37</td>\n",
       "      <td>Depression</td>\n",
       "      <td>18OV</td>\n",
       "      <td>2279</td>\n",
       "      <td>Springfield</td>\n",
       "      <td>5</td>\n",
       "    </tr>\n",
       "    <tr>\n",
       "      <th>638</th>\n",
       "      <td>E01033641</td>\n",
       "      <td>4150</td>\n",
       "      <td>2</td>\n",
       "      <td>DEP</td>\n",
       "      <td>205.21</td>\n",
       "      <td>3296</td>\n",
       "      <td>460</td>\n",
       "      <td>0</td>\n",
       "      <td>101</td>\n",
       "      <td>309</td>\n",
       "      <td>...</td>\n",
       "      <td>145</td>\n",
       "      <td>13</td>\n",
       "      <td>188</td>\n",
       "      <td>185</td>\n",
       "      <td>96</td>\n",
       "      <td>Depression</td>\n",
       "      <td>18OV</td>\n",
       "      <td>4358</td>\n",
       "      <td>Springfield</td>\n",
       "      <td>3</td>\n",
       "    </tr>\n",
       "  </tbody>\n",
       "</table>\n",
       "<p>5 rows × 21 columns</p>\n",
       "</div>"
      ],
      "text/plain": [
       "          lsoa  imd_rank  imd_decile indicator_group  \\\n",
       "634  E01009382      3112           1             DEP   \n",
       "635  E01009391      4583           2             DEP   \n",
       "636  E01009392      6807           3             DEP   \n",
       "637  E01009393      4120           2             DEP   \n",
       "638  E01033641      4150           2             DEP   \n",
       "\n",
       "     estimated_pats_with_condition  All_ethnicities  White  Gypsy_traveller  \\\n",
       "634                         114.14             1836    130                0   \n",
       "635                         101.84             1622    198                0   \n",
       "636                         102.99             1774    203                0   \n",
       "637                          97.00             1645    183                5   \n",
       "638                         205.21             3296    460                0   \n",
       "\n",
       "     Mixed_Ethnicity  Indian   ...    Bangladeshi  Chinese  Other_Asian  \\\n",
       "634               25     153   ...             53       10          156   \n",
       "635               45     226   ...             59        5          100   \n",
       "636               37     214   ...             79        6          126   \n",
       "637               57     169   ...             38        9           81   \n",
       "638              101     309   ...            145       13          188   \n",
       "\n",
       "     Black_African_Caribbean  Other  group_desc list_type patients  \\\n",
       "634                       73     70  Depression      18OV     2360   \n",
       "635                       92     19  Depression      18OV     2371   \n",
       "636                       44     60  Depression      18OV     2110   \n",
       "637                       76     37  Depression      18OV     2279   \n",
       "638                      185     96  Depression      18OV     4358   \n",
       "\n",
       "       ward_name cluster  \n",
       "634  Springfield       3  \n",
       "635  Springfield       3  \n",
       "636  Springfield       3  \n",
       "637  Springfield       5  \n",
       "638  Springfield       3  \n",
       "\n",
       "[5 rows x 21 columns]"
      ]
     },
     "execution_count": 21,
     "metadata": {},
     "output_type": "execute_result"
    }
   ],
   "source": [
    "df_orig.tail()"
   ]
  },
  {
   "cell_type": "markdown",
   "metadata": {},
   "source": [
    "We now have our original DataFrame clustered into five groups. [In the next step we will analyse the individual clusters.](http://localhost:8888/notebooks/Google%20Drive/qof/Birmingham%20Depression%20Clustering%20Analysis.ipynb)"
   ]
  }
 ],
 "metadata": {
  "kernelspec": {
   "display_name": "Python 2",
   "language": "python",
   "name": "python2"
  },
  "language_info": {
   "codemirror_mode": {
    "name": "ipython",
    "version": 2
   },
   "file_extension": ".py",
   "mimetype": "text/x-python",
   "name": "python",
   "nbconvert_exporter": "python",
   "pygments_lexer": "ipython2",
   "version": "2.7.14"
  }
 },
 "nbformat": 4,
 "nbformat_minor": 2
}
